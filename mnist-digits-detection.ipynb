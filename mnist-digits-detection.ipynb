{
 "cells": [
  {
   "cell_type": "code",
   "execution_count": 1,
   "id": "3d576894",
   "metadata": {
    "execution": {
     "iopub.execute_input": "2022-11-28T12:28:51.907041Z",
     "iopub.status.busy": "2022-11-28T12:28:51.906574Z",
     "iopub.status.idle": "2022-11-28T12:28:58.192053Z",
     "shell.execute_reply": "2022-11-28T12:28:58.191167Z"
    },
    "papermill": {
     "duration": 6.294882,
     "end_time": "2022-11-28T12:28:58.194799",
     "exception": false,
     "start_time": "2022-11-28T12:28:51.899917",
     "status": "completed"
    },
    "tags": []
   },
   "outputs": [],
   "source": [
    "#importing libraries\n",
    "import tensorflow as tf\n",
    "import matplotlib.pyplot as plt\n",
    "import pandas as pd\n",
    "import numpy as np\n",
    "%matplotlib inline"
   ]
  },
  {
   "cell_type": "code",
   "execution_count": 2,
   "id": "06bc85b4",
   "metadata": {
    "execution": {
     "iopub.execute_input": "2022-11-28T12:28:58.205778Z",
     "iopub.status.busy": "2022-11-28T12:28:58.203755Z",
     "iopub.status.idle": "2022-11-28T12:29:01.100982Z",
     "shell.execute_reply": "2022-11-28T12:29:01.099767Z"
    },
    "papermill": {
     "duration": 2.905366,
     "end_time": "2022-11-28T12:29:01.103752",
     "exception": false,
     "start_time": "2022-11-28T12:28:58.198386",
     "status": "completed"
    },
    "tags": []
   },
   "outputs": [
    {
     "name": "stdout",
     "output_type": "stream",
     "text": [
      "Downloading data from https://storage.googleapis.com/tensorflow/tf-keras-datasets/mnist.npz\n",
      "11493376/11490434 [==============================] - 1s 0us/step\n",
      "11501568/11490434 [==============================] - 1s 0us/step\n"
     ]
    }
   ],
   "source": [
    "#import dataset\n",
    "mnist = tf.keras.datasets.mnist\n",
    "(x_train, y_train),(x_test, y_test) = mnist.load_data()"
   ]
  },
  {
   "cell_type": "code",
   "execution_count": 3,
   "id": "89a20be7",
   "metadata": {
    "execution": {
     "iopub.execute_input": "2022-11-28T12:29:01.114506Z",
     "iopub.status.busy": "2022-11-28T12:29:01.114083Z",
     "iopub.status.idle": "2022-11-28T12:29:01.286390Z",
     "shell.execute_reply": "2022-11-28T12:29:01.285188Z"
    },
    "papermill": {
     "duration": 0.180713,
     "end_time": "2022-11-28T12:29:01.289052",
     "exception": false,
     "start_time": "2022-11-28T12:29:01.108339",
     "status": "completed"
    },
    "tags": []
   },
   "outputs": [
    {
     "name": "stdout",
     "output_type": "stream",
     "text": [
      "[[  0   0   0   0   0   0   0   0   0   0   0   0   0   0   0   0   0   0\n",
      "    0   0   0   0   0   0   0   0   0   0]\n",
      " [  0   0   0   0   0   0   0   0   0   0   0   0   0   0   0   0   0   0\n",
      "    0   0   0   0   0   0   0   0   0   0]\n",
      " [  0   0   0   0   0   0   0   0   0   0   0   0   0   0   0   0   0   0\n",
      "    0   0   0   0   0   0   0   0   0   0]\n",
      " [  0   0   0   0   0   0   0   0   0   0   0   0   0   0   0   0   0   0\n",
      "    0   0   0   0   0   0   0   0   0   0]\n",
      " [  0   0   0   0   0   0   0   0   0   0   0   0   0   0   0   0   0   0\n",
      "    0   0   0   0   0   0   0   0   0   0]\n",
      " [  0   0   0   0   0   0   0   0   0   0   0   0   3  18  18  18 126 136\n",
      "  175  26 166 255 247 127   0   0   0   0]\n",
      " [  0   0   0   0   0   0   0   0  30  36  94 154 170 253 253 253 253 253\n",
      "  225 172 253 242 195  64   0   0   0   0]\n",
      " [  0   0   0   0   0   0   0  49 238 253 253 253 253 253 253 253 253 251\n",
      "   93  82  82  56  39   0   0   0   0   0]\n",
      " [  0   0   0   0   0   0   0  18 219 253 253 253 253 253 198 182 247 241\n",
      "    0   0   0   0   0   0   0   0   0   0]\n",
      " [  0   0   0   0   0   0   0   0  80 156 107 253 253 205  11   0  43 154\n",
      "    0   0   0   0   0   0   0   0   0   0]\n",
      " [  0   0   0   0   0   0   0   0   0  14   1 154 253  90   0   0   0   0\n",
      "    0   0   0   0   0   0   0   0   0   0]\n",
      " [  0   0   0   0   0   0   0   0   0   0   0 139 253 190   2   0   0   0\n",
      "    0   0   0   0   0   0   0   0   0   0]\n",
      " [  0   0   0   0   0   0   0   0   0   0   0  11 190 253  70   0   0   0\n",
      "    0   0   0   0   0   0   0   0   0   0]\n",
      " [  0   0   0   0   0   0   0   0   0   0   0   0  35 241 225 160 108   1\n",
      "    0   0   0   0   0   0   0   0   0   0]\n",
      " [  0   0   0   0   0   0   0   0   0   0   0   0   0  81 240 253 253 119\n",
      "   25   0   0   0   0   0   0   0   0   0]\n",
      " [  0   0   0   0   0   0   0   0   0   0   0   0   0   0  45 186 253 253\n",
      "  150  27   0   0   0   0   0   0   0   0]\n",
      " [  0   0   0   0   0   0   0   0   0   0   0   0   0   0   0  16  93 252\n",
      "  253 187   0   0   0   0   0   0   0   0]\n",
      " [  0   0   0   0   0   0   0   0   0   0   0   0   0   0   0   0   0 249\n",
      "  253 249  64   0   0   0   0   0   0   0]\n",
      " [  0   0   0   0   0   0   0   0   0   0   0   0   0   0  46 130 183 253\n",
      "  253 207   2   0   0   0   0   0   0   0]\n",
      " [  0   0   0   0   0   0   0   0   0   0   0   0  39 148 229 253 253 253\n",
      "  250 182   0   0   0   0   0   0   0   0]\n",
      " [  0   0   0   0   0   0   0   0   0   0  24 114 221 253 253 253 253 201\n",
      "   78   0   0   0   0   0   0   0   0   0]\n",
      " [  0   0   0   0   0   0   0   0  23  66 213 253 253 253 253 198  81   2\n",
      "    0   0   0   0   0   0   0   0   0   0]\n",
      " [  0   0   0   0   0   0  18 171 219 253 253 253 253 195  80   9   0   0\n",
      "    0   0   0   0   0   0   0   0   0   0]\n",
      " [  0   0   0   0  55 172 226 253 253 253 253 244 133  11   0   0   0   0\n",
      "    0   0   0   0   0   0   0   0   0   0]\n",
      " [  0   0   0   0 136 253 253 253 212 135 132  16   0   0   0   0   0   0\n",
      "    0   0   0   0   0   0   0   0   0   0]\n",
      " [  0   0   0   0   0   0   0   0   0   0   0   0   0   0   0   0   0   0\n",
      "    0   0   0   0   0   0   0   0   0   0]\n",
      " [  0   0   0   0   0   0   0   0   0   0   0   0   0   0   0   0   0   0\n",
      "    0   0   0   0   0   0   0   0   0   0]\n",
      " [  0   0   0   0   0   0   0   0   0   0   0   0   0   0   0   0   0   0\n",
      "    0   0   0   0   0   0   0   0   0   0]]\n"
     ]
    },
    {
     "data": {
      "image/png": "[encoded data removed]",
      "text/plain": [
       "<Figure size 432x288 with 1 Axes>"
      ]
     },
     "metadata": {
      "needs_background": "light"
     },
     "output_type": "display_data"
    },
    {
     "name": "stdout",
     "output_type": "stream",
     "text": [
      "the result of x(0) = 5\n"
     ]
    }
   ],
   "source": [
    "#showing sample from data \n",
    "print(x_train[0])\n",
    "plt.imshow(x_train[0],cmap=plt.cm.binary)\n",
    "plt.show()\n",
    "print(\"the result of x(0) =\",y_train[0]) "
   ]
  },
  {
   "cell_type": "code",
   "execution_count": 4,
   "id": "c40cc431",
   "metadata": {
    "execution": {
     "iopub.execute_input": "2022-11-28T12:29:01.301511Z",
     "iopub.status.busy": "2022-11-28T12:29:01.300629Z",
     "iopub.status.idle": "2022-11-28T12:29:02.108068Z",
     "shell.execute_reply": "2022-11-28T12:29:02.105636Z"
    },
    "papermill": {
     "duration": 0.817502,
     "end_time": "2022-11-28T12:29:02.111554",
     "exception": false,
     "start_time": "2022-11-28T12:29:01.294052",
     "status": "completed"
    },
    "tags": []
   },
   "outputs": [
    {
     "name": "stdout",
     "output_type": "stream",
     "text": [
      "[[0.         0.         0.         0.         0.         0.\n",
      "  0.         0.         0.         0.         0.         0.\n",
      "  0.         0.         0.         0.         0.         0.\n",
      "  0.         0.         0.         0.         0.         0.\n",
      "  0.         0.         0.         0.        ]\n",
      " [0.         0.         0.         0.         0.         0.\n",
      "  0.         0.         0.         0.         0.         0.\n",
      "  0.         0.         0.         0.         0.         0.\n",
      "  0.         0.         0.         0.         0.         0.\n",
      "  0.         0.         0.         0.        ]\n",
      " [0.         0.         0.         0.         0.         0.\n",
      "  0.         0.         0.         0.         0.         0.\n",
      "  0.         0.         0.         0.         0.         0.\n",
      "  0.         0.         0.         0.         0.         0.\n",
      "  0.         0.         0.         0.        ]\n",
      " [0.         0.         0.         0.         0.         0.\n",
      "  0.         0.         0.         0.         0.         0.\n",
      "  0.         0.         0.         0.         0.         0.\n",
      "  0.         0.         0.         0.         0.         0.\n",
      "  0.         0.         0.         0.        ]\n",
      " [0.         0.         0.         0.         0.         0.\n",
      "  0.         0.         0.         0.         0.         0.\n",
      "  0.         0.         0.         0.         0.         0.\n",
      "  0.         0.         0.         0.         0.         0.\n",
      "  0.         0.         0.         0.        ]\n",
      " [0.         0.         0.         0.         0.         0.\n",
      "  0.         0.         0.         0.         0.         0.\n",
      "  0.00393124 0.02332955 0.02620568 0.02625207 0.17420356 0.17566281\n",
      "  0.28629534 0.05664824 0.51877786 0.71632322 0.77892406 0.89301644\n",
      "  0.         0.         0.         0.        ]\n",
      " [0.         0.         0.         0.         0.         0.\n",
      "  0.         0.         0.05780486 0.06524513 0.16128198 0.22713296\n",
      "  0.22277047 0.32790981 0.36833534 0.3689874  0.34978968 0.32678448\n",
      "  0.368094   0.3747499  0.79066747 0.67980478 0.61494005 0.45002403\n",
      "  0.         0.         0.         0.        ]\n",
      " [0.         0.         0.         0.         0.         0.\n",
      "  0.         0.12250613 0.45858525 0.45852825 0.43408872 0.37314701\n",
      "  0.33153488 0.32790981 0.36833534 0.3689874  0.34978968 0.32420121\n",
      "  0.15214552 0.17865984 0.25626376 0.1573102  0.12298801 0.\n",
      "  0.         0.         0.         0.        ]\n",
      " [0.         0.         0.         0.         0.         0.\n",
      "  0.         0.04500225 0.4219755  0.45852825 0.43408872 0.37314701\n",
      "  0.33153488 0.32790981 0.28826244 0.26543758 0.34149427 0.31128482\n",
      "  0.         0.         0.         0.         0.         0.\n",
      "  0.         0.         0.         0.        ]\n",
      " [0.         0.         0.         0.         0.         0.\n",
      "  0.         0.         0.1541463  0.28272888 0.18358693 0.37314701\n",
      "  0.33153488 0.26569767 0.01601458 0.         0.05945042 0.19891229\n",
      "  0.         0.         0.         0.         0.         0.\n",
      "  0.         0.         0.         0.        ]\n",
      " [0.         0.         0.         0.         0.         0.\n",
      "  0.         0.         0.         0.0253731  0.00171577 0.22713296\n",
      "  0.33153488 0.11664776 0.         0.         0.         0.\n",
      "  0.         0.         0.         0.         0.         0.\n",
      "  0.         0.         0.         0.        ]\n",
      " [0.         0.         0.         0.         0.         0.\n",
      "  0.         0.         0.         0.         0.         0.20500962\n",
      "  0.33153488 0.24625638 0.00291174 0.         0.         0.\n",
      "  0.         0.         0.         0.         0.         0.\n",
      "  0.         0.         0.         0.        ]\n",
      " [0.         0.         0.         0.         0.         0.\n",
      "  0.         0.         0.         0.         0.         0.01622378\n",
      "  0.24897876 0.32790981 0.10191096 0.         0.         0.\n",
      "  0.         0.         0.         0.         0.         0.\n",
      "  0.         0.         0.         0.        ]\n",
      " [0.         0.         0.         0.         0.         0.\n",
      "  0.         0.         0.         0.         0.         0.\n",
      "  0.04586451 0.31235677 0.32757096 0.23335172 0.14931733 0.00129164\n",
      "  0.         0.         0.         0.         0.         0.\n",
      "  0.         0.         0.         0.        ]\n",
      " [0.         0.         0.         0.         0.         0.\n",
      "  0.         0.         0.         0.         0.         0.\n",
      "  0.         0.10498298 0.34940902 0.3689874  0.34978968 0.15370495\n",
      "  0.04089933 0.         0.         0.         0.         0.\n",
      "  0.         0.         0.         0.        ]\n",
      " [0.         0.         0.         0.         0.         0.\n",
      "  0.         0.         0.         0.         0.         0.\n",
      "  0.         0.         0.06551419 0.27127137 0.34978968 0.32678448\n",
      "  0.245396   0.05882702 0.         0.         0.         0.\n",
      "  0.         0.         0.         0.        ]\n",
      " [0.         0.         0.         0.         0.         0.\n",
      "  0.         0.         0.         0.         0.         0.\n",
      "  0.         0.         0.         0.02333517 0.12857881 0.32549285\n",
      "  0.41390126 0.40743158 0.         0.         0.         0.\n",
      "  0.         0.         0.         0.        ]\n",
      " [0.         0.         0.         0.         0.         0.\n",
      "  0.         0.         0.         0.         0.         0.\n",
      "  0.         0.         0.         0.         0.         0.32161793\n",
      "  0.41390126 0.54251585 0.20001074 0.         0.         0.\n",
      "  0.         0.         0.         0.        ]\n",
      " [0.         0.         0.         0.         0.         0.\n",
      "  0.         0.         0.         0.         0.         0.\n",
      "  0.         0.         0.06697006 0.18959827 0.25300993 0.32678448\n",
      "  0.41390126 0.45100715 0.00625034 0.         0.         0.\n",
      "  0.         0.         0.         0.        ]\n",
      " [0.         0.         0.         0.         0.         0.\n",
      "  0.         0.         0.         0.         0.         0.\n",
      "  0.05110617 0.19182076 0.33339444 0.3689874  0.34978968 0.32678448\n",
      "  0.40899334 0.39653769 0.         0.         0.         0.\n",
      "  0.         0.         0.         0.        ]\n",
      " [0.         0.         0.         0.         0.         0.\n",
      "  0.         0.         0.         0.         0.04117838 0.16813739\n",
      "  0.28960162 0.32790981 0.36833534 0.3689874  0.34978968 0.25961929\n",
      "  0.12760592 0.         0.         0.         0.         0.\n",
      "  0.         0.         0.         0.        ]\n",
      " [0.         0.         0.         0.         0.         0.\n",
      "  0.         0.         0.04431706 0.11961607 0.36545809 0.37314701\n",
      "  0.33153488 0.32790981 0.36833534 0.28877275 0.111988   0.00258328\n",
      "  0.         0.         0.         0.         0.         0.\n",
      "  0.         0.         0.         0.        ]\n",
      " [0.         0.         0.         0.         0.         0.\n",
      "  0.05298497 0.42752138 0.4219755  0.45852825 0.43408872 0.37314701\n",
      "  0.33153488 0.25273681 0.11646967 0.01312603 0.         0.\n",
      "  0.         0.         0.         0.         0.         0.\n",
      "  0.         0.         0.         0.        ]\n",
      " [0.         0.         0.         0.         0.37491383 0.56222061\n",
      "  0.66525569 0.63253163 0.48748768 0.45852825 0.43408872 0.359873\n",
      "  0.17428513 0.01425695 0.         0.         0.         0.\n",
      "  0.         0.         0.         0.         0.         0.\n",
      "  0.         0.         0.         0.        ]\n",
      " [0.         0.         0.         0.         0.92705966 0.82698729\n",
      "  0.74473314 0.63253163 0.4084877  0.24466922 0.22648107 0.02359823\n",
      "  0.         0.         0.         0.         0.         0.\n",
      "  0.         0.         0.         0.         0.         0.\n",
      "  0.         0.         0.         0.        ]\n",
      " [0.         0.         0.         0.         0.         0.\n",
      "  0.         0.         0.         0.         0.         0.\n",
      "  0.         0.         0.         0.         0.         0.\n",
      "  0.         0.         0.         0.         0.         0.\n",
      "  0.         0.         0.         0.        ]\n",
      " [0.         0.         0.         0.         0.         0.\n",
      "  0.         0.         0.         0.         0.         0.\n",
      "  0.         0.         0.         0.         0.         0.\n",
      "  0.         0.         0.         0.         0.         0.\n",
      "  0.         0.         0.         0.        ]\n",
      " [0.         0.         0.         0.         0.         0.\n",
      "  0.         0.         0.         0.         0.         0.\n",
      "  0.         0.         0.         0.         0.         0.\n",
      "  0.         0.         0.         0.         0.         0.\n",
      "  0.         0.         0.         0.        ]]\n"
     ]
    },
    {
     "data": {
      "image/png": "[encoded data removed]",
      "text/plain": [
       "<Figure size 432x288 with 1 Axes>"
      ]
     },
     "metadata": {
      "needs_background": "light"
     },
     "output_type": "display_data"
    }
   ],
   "source": [
    "#normalization for dataset\n",
    "x_train = tf.keras.utils.normalize(x_train, axis=1)\n",
    "x_test = tf.keras.utils.normalize(x_test, axis=1)\n",
    "\n",
    "print(x_train[0])\n",
    "\n",
    "plt.imshow(x_train[0],cmap=plt.cm.binary)\n",
    "plt.show()"
   ]
  },
  {
   "cell_type": "code",
   "execution_count": 5,
   "id": "8503b4a5",
   "metadata": {
    "execution": {
     "iopub.execute_input": "2022-11-28T12:29:02.124077Z",
     "iopub.status.busy": "2022-11-28T12:29:02.123677Z",
     "iopub.status.idle": "2022-11-28T12:29:02.428486Z",
     "shell.execute_reply": "2022-11-28T12:29:02.427466Z"
    },
    "papermill": {
     "duration": 0.314464,
     "end_time": "2022-11-28T12:29:02.431432",
     "exception": false,
     "start_time": "2022-11-28T12:29:02.116968",
     "status": "completed"
    },
    "tags": []
   },
   "outputs": [
    {
     "name": "stderr",
     "output_type": "stream",
     "text": [
      "2022-11-28 12:29:02.170919: I tensorflow/core/common_runtime/process_util.cc:146] Creating new thread pool with default inter op setting: 2. Tune using inter_op_parallelism_threads for best performance.\n"
     ]
    }
   ],
   "source": [
    " #building the model layers\n",
    "    \n",
    "model = tf.keras.models.Sequential([\n",
    "  tf.keras.layers.Flatten(input_shape=(28, 28)),\n",
    "  tf.keras.layers.Dense(512, activation=tf.nn.relu),\n",
    "  tf.keras.layers.Dropout(0.2),\n",
    "  tf.keras.layers.Dense(10, activation=tf.nn.softmax)\n",
    "])\n",
    "\n",
    " #optimizer\n",
    "    \n",
    "model.compile(optimizer='adam',loss='sparse_categorical_crossentropy',metrics=['accuracy'])"
   ]
  },
  {
   "cell_type": "code",
   "execution_count": 6,
   "id": "a69aaba5",
   "metadata": {
    "execution": {
     "iopub.execute_input": "2022-11-28T12:29:02.443816Z",
     "iopub.status.busy": "2022-11-28T12:29:02.443426Z",
     "iopub.status.idle": "2022-11-28T12:31:09.133490Z",
     "shell.execute_reply": "2022-11-28T12:31:09.132329Z"
    },
    "papermill": {
     "duration": 126.699277,
     "end_time": "2022-11-28T12:31:09.136085",
     "exception": false,
     "start_time": "2022-11-28T12:29:02.436808",
     "status": "completed"
    },
    "tags": []
   },
   "outputs": [
    {
     "name": "stdout",
     "output_type": "stream",
     "text": [
      "at epochs=3 \n"
     ]
    },
    {
     "name": "stderr",
     "output_type": "stream",
     "text": [
      "2022-11-28 12:29:02.784547: I tensorflow/compiler/mlir/mlir_graph_optimization_pass.cc:185] None of the MLIR Optimization Passes are enabled (registered 2)\n"
     ]
    },
    {
     "name": "stdout",
     "output_type": "stream",
     "text": [
      "Epoch 1/3\n",
      "1875/1875 [==============================] - 7s 4ms/step - loss: 0.2581 - accuracy: 0.9257\n",
      "Epoch 2/3\n",
      "1875/1875 [==============================] - 7s 4ms/step - loss: 0.1084 - accuracy: 0.9681\n",
      "Epoch 3/3\n",
      "1875/1875 [==============================] - 7s 3ms/step - loss: 0.0759 - accuracy: 0.9763\n",
      "313/313 [==============================] - 1s 2ms/step - loss: 0.0781 - accuracy: 0.9767\n",
      "epochs=3_loss 0.07811567932367325\n",
      "epochs=3_acc 0.9767000079154968\n",
      "************************************\n",
      "at epochs=5 \n",
      "Epoch 1/5\n",
      "1875/1875 [==============================] - 7s 4ms/step - loss: 0.0573 - accuracy: 0.9823\n",
      "Epoch 2/5\n",
      "1875/1875 [==============================] - 6s 3ms/step - loss: 0.0439 - accuracy: 0.9866\n",
      "Epoch 3/5\n",
      "1875/1875 [==============================] - 7s 4ms/step - loss: 0.0360 - accuracy: 0.9882\n",
      "Epoch 4/5\n",
      "1875/1875 [==============================] - 7s 4ms/step - loss: 0.0287 - accuracy: 0.9905\n",
      "Epoch 5/5\n",
      "1875/1875 [==============================] - 7s 4ms/step - loss: 0.0235 - accuracy: 0.9922\n",
      "313/313 [==============================] - 1s 2ms/step - loss: 0.0835 - accuracy: 0.9774\n",
      "epochs=5_loss 0.08346156775951385\n",
      "epochs=5_acc 0.977400004863739\n",
      "************************************\n",
      "at epochs=6 \n",
      "Epoch 1/6\n",
      "1875/1875 [==============================] - 7s 4ms/step - loss: 0.0190 - accuracy: 0.9939\n",
      "Epoch 2/6\n",
      "1875/1875 [==============================] - 7s 4ms/step - loss: 0.0179 - accuracy: 0.9934\n",
      "Epoch 3/6\n",
      "1875/1875 [==============================] - 7s 4ms/step - loss: 0.0157 - accuracy: 0.9948\n",
      "Epoch 4/6\n",
      "1875/1875 [==============================] - 7s 4ms/step - loss: 0.0130 - accuracy: 0.9955\n",
      "Epoch 5/6\n",
      "1875/1875 [==============================] - 7s 4ms/step - loss: 0.0121 - accuracy: 0.9959\n",
      "Epoch 6/6\n",
      "1875/1875 [==============================] - 7s 4ms/step - loss: 0.0108 - accuracy: 0.9964\n",
      "313/313 [==============================] - 1s 2ms/step - loss: 0.0893 - accuracy: 0.9798\n",
      "epochs=6_loss 0.08930205553770065\n",
      "epochs=6_acc 0.9797999858856201\n",
      "************************************\n"
     ]
    }
   ],
   "source": [
    " #training the model with diffrent n of epochs to showing the diffrence\n",
    "print (\"at epochs=3 \")\n",
    "model.fit(x_train, y_train, epochs=3)\n",
    "val_loss, val_acc = model.evaluate(x_test, y_test)\n",
    "print(\"epochs=3_loss\",val_loss)\n",
    "print(\"epochs=3_acc\",val_acc)\n",
    "print(\"************************************\")\n",
    "\n",
    "print (\"at epochs=5 \")\n",
    "model.fit(x_train, y_train, epochs=5)\n",
    "val_loss, val_acc = model.evaluate(x_test, y_test)\n",
    "print(\"epochs=5_loss\",val_loss)\n",
    "print(\"epochs=5_acc\",val_acc)\n",
    "print(\"************************************\")\n",
    "print (\"at epochs=6 \")\n",
    "model.fit(x_train, y_train, epochs=6)\n",
    "val_loss, val_acc = model.evaluate(x_test, y_test)\n",
    "print(\"epochs=6_loss\",val_loss)\n",
    "print(\"epochs=6_acc\",val_acc)\n",
    "print(\"************************************\")"
   ]
  },
  {
   "cell_type": "code",
   "execution_count": 7,
   "id": "f8146ec2",
   "metadata": {
    "execution": {
     "iopub.execute_input": "2022-11-28T12:31:09.382011Z",
     "iopub.status.busy": "2022-11-28T12:31:09.381209Z",
     "iopub.status.idle": "2022-11-28T12:31:09.385841Z",
     "shell.execute_reply": "2022-11-28T12:31:09.384845Z"
    },
    "papermill": {
     "duration": 0.12938,
     "end_time": "2022-11-28T12:31:09.388199",
     "exception": false,
     "start_time": "2022-11-28T12:31:09.258819",
     "status": "completed"
    },
    "tags": []
   },
   "outputs": [],
   "source": [
    "#  max acc is 0.98 so 3 epochs is enough"
   ]
  },
  {
   "cell_type": "code",
   "execution_count": 8,
   "id": "74c45c6c",
   "metadata": {
    "execution": {
     "iopub.execute_input": "2022-11-28T12:31:09.634144Z",
     "iopub.status.busy": "2022-11-28T12:31:09.633528Z",
     "iopub.status.idle": "2022-11-28T12:31:10.524240Z",
     "shell.execute_reply": "2022-11-28T12:31:10.522955Z"
    },
    "papermill": {
     "duration": 1.016001,
     "end_time": "2022-11-28T12:31:10.526921",
     "exception": false,
     "start_time": "2022-11-28T12:31:09.510920",
     "status": "completed"
    },
    "tags": []
   },
   "outputs": [
    {
     "name": "stderr",
     "output_type": "stream",
     "text": [
      "2022-11-28 12:31:09.932830: W tensorflow/python/util/util.cc:348] Sets are not currently considered sequences, but this may change in the future, so consider avoiding using them.\n"
     ]
    }
   ],
   "source": [
    "#saving the model\n",
    "model.save('mnist.keras.ANN.model')"
   ]
  },
  {
   "cell_type": "code",
   "execution_count": 9,
   "id": "61d0b4f7",
   "metadata": {
    "execution": {
     "iopub.execute_input": "2022-11-28T12:31:10.773430Z",
     "iopub.status.busy": "2022-11-28T12:31:10.772730Z",
     "iopub.status.idle": "2022-11-28T12:31:11.042826Z",
     "shell.execute_reply": "2022-11-28T12:31:11.041811Z"
    },
    "papermill": {
     "duration": 0.397159,
     "end_time": "2022-11-28T12:31:11.045307",
     "exception": false,
     "start_time": "2022-11-28T12:31:10.648148",
     "status": "completed"
    },
    "tags": []
   },
   "outputs": [],
   "source": [
    "#loading the saved model\n",
    "new_model = tf.keras.models.load_model('mnist.keras.ANN.model')\n"
   ]
  },
  {
   "cell_type": "code",
   "execution_count": 10,
   "id": "a1a9b2d1",
   "metadata": {
    "execution": {
     "iopub.execute_input": "2022-11-28T12:31:11.292121Z",
     "iopub.status.busy": "2022-11-28T12:31:11.291451Z",
     "iopub.status.idle": "2022-11-28T12:31:11.981386Z",
     "shell.execute_reply": "2022-11-28T12:31:11.979737Z"
    },
    "papermill": {
     "duration": 0.817183,
     "end_time": "2022-11-28T12:31:11.985569",
     "exception": false,
     "start_time": "2022-11-28T12:31:11.168386",
     "status": "completed"
    },
    "tags": []
   },
   "outputs": [
    {
     "name": "stdout",
     "output_type": "stream",
     "text": [
      "[[2.2269693e-12 5.0517354e-15 1.0644067e-12 ... 1.0000000e+00\n",
      "  4.0710135e-16 1.6727838e-13]\n",
      " [4.7964298e-21 2.2660853e-12 1.0000000e+00 ... 4.6819881e-25\n",
      "  3.0940260e-14 7.1582844e-28]\n",
      " [4.8080419e-14 9.9999988e-01 4.9691735e-09 ... 6.1160975e-08\n",
      "  1.9473088e-08 4.5320637e-14]\n",
      " ...\n",
      " [1.8557166e-16 7.5522942e-11 3.1031476e-14 ... 1.7156876e-07\n",
      "  1.9984221e-09 3.1251909e-06]\n",
      " [2.3391545e-13 8.4948517e-17 3.8816716e-15 ... 4.2113753e-16\n",
      "  1.2824262e-07 3.0891871e-20]\n",
      " [2.2831112e-14 4.9515296e-16 1.2589176e-13 ... 2.2823091e-15\n",
      "  3.0894266e-14 7.1559421e-19]]\n",
      "(10000, 10)\n",
      "7\n"
     ]
    },
    {
     "data": {
      "image/png": "[encoded data removed]",
      "text/plain": [
       "<Figure size 432x288 with 1 Axes>"
      ]
     },
     "metadata": {
      "needs_background": "light"
     },
     "output_type": "display_data"
    }
   ],
   "source": [
    "#predicting\n",
    "predictions = new_model.predict(x_test)\n",
    "print(predictions)\n",
    "print(predictions.shape)\n",
    "print(np.argmax(predictions[0]))\n",
    "plt.imshow(x_test[3],cmap=plt.cm.binary)\n",
    "plt.show()"
   ]
  }
 ],
 "metadata": {
  "kernelspec": {
   "display_name": "Python 3",
   "language": "python",
   "name": "python3"
  },
  "language_info": {
   "codemirror_mode": {
    "name": "ipython",
    "version": 3
   },
   "file_extension": ".py",
   "mimetype": "text/x-python",
   "name": "python",
   "nbconvert_exporter": "python",
   "pygments_lexer": "ipython3",
   "version": "3.7.12"
  },
  "papermill": {
   "default_parameters": {},
   "duration": 152.297926,
   "end_time": "2022-11-28T12:31:15.113855",
   "environment_variables": {},
   "exception": null,
   "input_path": "__notebook__.ipynb",
   "output_path": "__notebook__.ipynb",
   "parameters": {},
   "start_time": "2022-11-28T12:28:42.815929",
   "version": "2.3.4"
  }
 },
 "nbformat": 4,
 "nbformat_minor": 5
}
